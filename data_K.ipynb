{
 "cells": [
  {
   "cell_type": "code",
   "execution_count": 2049,
   "metadata": {
    "collapsed": true,
    "pycharm": {
     "name": "#%%\n"
    }
   },
   "outputs": [],
   "source": [
    "import h5py\n",
    "\n",
    "dataPath = \"data-15.07.08/8.20//000029.SZtick.mat\"\n",
    "f = h5py.File(dataPath,'r+')"
   ]
  },
  {
   "cell_type": "code",
   "execution_count": 2050,
   "metadata": {
    "collapsed": false,
    "pycharm": {
     "name": "#%%\n"
    }
   },
   "outputs": [
    {
     "data": {
      "text/plain": [
       "<KeysViewHDF5 ['AccTurover', 'AccVolume', 'AskAvPrice', 'AskPrice', 'AskVolume', 'BSFlag', 'BidAvPrice', 'BidPrice', 'BidVolume', 'Code', 'CurDelta', 'Date', 'Downs', 'High', 'HoldLines', 'Index', 'Interest', 'Low', 'MatchItems', 'Open', 'Position', 'PreClose', 'PrePosition', 'PreSettle', 'Price', 'Settle', 'Stocks', 'Time', 'TotalAskVolume', 'TotalBidVolume', 'TradeFlag', 'Turover', 'Ups', 'Volume', 'WindCode']>"
      ]
     },
     "execution_count": 2050,
     "metadata": {},
     "output_type": "execute_result"
    }
   ],
   "source": [
    "f['r1'].keys()"
   ]
  },
  {
   "cell_type": "code",
   "execution_count": 2051,
   "metadata": {
    "collapsed": false,
    "pycharm": {
     "name": "#%%\n"
    }
   },
   "outputs": [],
   "source": [
    "import numpy as np\n",
    "import pandas as pd\n",
    "keys = ['AccTurover', 'AccVolume', 'AskAvPrice', 'AskPrice', 'AskVolume', 'BSFlag', 'BidAvPrice', 'BidPrice', 'BidVolume', 'Code', 'CurDelta', 'Date', 'Downs', 'High', 'HoldLines', 'Index', 'Interest', 'Low', 'MatchItems', 'Open', 'Position', 'PreClose', 'PrePosition', 'PreSettle', 'Price', 'Settle', 'Stocks', 'Time', 'TotalAskVolume', 'TotalBidVolume', 'TradeFlag', 'Turover', 'Ups', 'Volume', 'WindCode']\n",
    "data = []\n",
    "for key in keys:\n",
    "    data.append(f['r1'][key])"
   ]
  },
  {
   "cell_type": "code",
   "execution_count": 2052,
   "metadata": {
    "collapsed": false,
    "pycharm": {
     "name": "#%%\n"
    }
   },
   "outputs": [
    {
     "name": "stderr",
     "output_type": "stream",
     "text": [
      "C:\\Users\\86157\\AppData\\Local\\Temp\\ipykernel_22096\\2270436373.py:8: DeprecationWarning: `np.int` is a deprecated alias for the builtin `int`. To silence this warning, use `int` by itself. Doing this will not modify any behavior and is safe. When replacing `np.int`, you may wish to use e.g. `np.int64` or `np.int32` to specify the precision. If you wish to review your current use, check the release note link for additional information.\n",
      "Deprecated in NumPy 1.20; for more details and guidance: https://numpy.org/devdocs/release/1.20.0-notes.html#deprecations\n",
      "  miu_n = BidVolume.astype(np.int) - AskVolume.astype(np.int)\n",
      "C:\\Users\\86157\\AppData\\Local\\Temp\\ipykernel_22096\\2270436373.py:9: DeprecationWarning: `np.int` is a deprecated alias for the builtin `int`. To silence this warning, use `int` by itself. Doing this will not modify any behavior and is safe. When replacing `np.int`, you may wish to use e.g. `np.int64` or `np.int32` to specify the precision. If you wish to review your current use, check the release note link for additional information.\n",
      "Deprecated in NumPy 1.20; for more details and guidance: https://numpy.org/devdocs/release/1.20.0-notes.html#deprecations\n",
      "  Total_miu_n = TotalBidVolume.astype(np.int) - TotalAskVolume.astype(np.int)\n"
     ]
    },
    {
     "data": {
      "text/plain": [
       "array([[      0,       0,       0, ...,       0, -579500, -579500],\n",
       "       [  -1100,    -100,    -100, ..., -579500,  -18100,  -18100],\n",
       "       [      0,       0,       0, ...,       0,  -18237,  -18237],\n",
       "       ...,\n",
       "       [      0,       0,       0, ...,       0,   -3800,   -3800],\n",
       "       [      0,       0,       0, ...,       0,   -5500,   -5500],\n",
       "       [      0,       0,       0, ...,       0,   -9200,   -9200]])"
      ]
     },
     "execution_count": 2052,
     "metadata": {},
     "output_type": "execute_result"
    }
   ],
   "source": [
    "BidPrice = np.array(f['r1']['BidPrice'])\n",
    "AskPrice = np.array(f['r1']['AskPrice'])\n",
    "BidVolume = np.array(f['r1']['BidVolume'])\n",
    "AskVolume = np.array(f['r1']['AskVolume'])\n",
    "TotalBidVolume = np.array(f['r1']['TotalBidVolume'])## 添加于2.12.16.55\n",
    "TotalAskVolume = np.array(f['r1']['TotalAskVolume'])\n",
    "Price = np.array(f['r1']['Price']) \n",
    "miu_n = BidVolume.astype(np.int) - AskVolume.astype(np.int)\n",
    "Total_miu_n = TotalBidVolume.astype(np.int) - TotalAskVolume.astype(np.int) \n",
    "miu_n"
   ]
  },
  {
   "cell_type": "code",
   "execution_count": 2053,
   "metadata": {
    "collapsed": false,
    "pycharm": {
     "name": "#%%\n"
    }
   },
   "outputs": [
    {
     "data": {
      "text/plain": [
       "array([[       0,        0,        0, ...,        0, -6916315, -6916315]])"
      ]
     },
     "execution_count": 2053,
     "metadata": {},
     "output_type": "execute_result"
    }
   ],
   "source": [
    "Total_miu_n"
   ]
  },
  {
   "cell_type": "code",
   "execution_count": 2054,
   "metadata": {},
   "outputs": [
    {
     "data": {
      "text/plain": [
       "array([[ 0.  ,  0.  ,  0.  , ..., 12.96, 12.96, 12.96]])"
      ]
     },
     "execution_count": 2054,
     "metadata": {},
     "output_type": "execute_result"
    }
   ],
   "source": [
    "Price"
   ]
  },
  {
   "cell_type": "code",
   "execution_count": 2055,
   "metadata": {},
   "outputs": [],
   "source": [
    "miu_n_tmp = miu_n[0:1,:]\n",
    "miu_n_final = np.sum(miu_n_tmp,axis=0)"
   ]
  },
  {
   "cell_type": "code",
   "execution_count": 2056,
   "metadata": {
    "collapsed": false,
    "pycharm": {
     "name": "#%%\n"
    }
   },
   "outputs": [
    {
     "data": {
      "text/plain": [
       "array([      0,       0,       0, ...,       0, -579500, -579500])"
      ]
     },
     "execution_count": 2056,
     "metadata": {},
     "output_type": "execute_result"
    }
   ],
   "source": [
    "miu_n_final"
   ]
  },
  {
   "cell_type": "code",
   "execution_count": 2057,
   "metadata": {
    "collapsed": false,
    "pycharm": {
     "name": "#%%\n"
    }
   },
   "outputs": [],
   "source": [
    "S_n = BidPrice[0] + AskPrice[0]\n",
    "S_n = S_n / 2\n",
    "for i in range(S_n.shape[0]):\n",
    "    if i+5 < S_n.shape[0]:          ## 修改于2.12.16.55： i+1 -> i+5\n",
    "        S_n[i] = S_n[i+5] - S_n[i]  ## 修改于2.12.16.55： i+1 -> i+5\n",
    "indexes = []\n",
    "for i in range(S_n.shape[0]):\n",
    "    if 1000 > S_n[i] > -1000:\n",
    "        indexes.append(i)"
   ]
  },
  {
   "cell_type": "code",
   "execution_count": 2058,
   "metadata": {
    "collapsed": false,
    "pycharm": {
     "name": "#%%\n"
    }
   },
   "outputs": [
    {
     "data": {
      "text/plain": [
       "Text(0.5, 0, 'miu_n')"
      ]
     },
     "execution_count": 2058,
     "metadata": {},
     "output_type": "execute_result"
    },
    {
     "data": {
      "image/png": "[encoded data removed]",
      "text/plain": [
       "<Figure size 432x288 with 1 Axes>"
      ]
     },
     "metadata": {
      "needs_background": "light"
     },
     "output_type": "display_data"
    }
   ],
   "source": [
    "import matplotlib.pyplot as plt\n",
    "fig = plt.figure()\n",
    "plt.scatter(miu_n_final[indexes],S_n[indexes])\n",
    "plt.ylabel('S_n')\n",
    "plt.xlabel('miu_n')"
   ]
  },
  {
   "cell_type": "code",
   "execution_count": 2059,
   "metadata": {
    "collapsed": false,
    "pycharm": {
     "name": "#%%\n"
    }
   },
   "outputs": [
    {
     "data": {
      "text/plain": [
       "array([      0,       0,       0, ...,       0, -579500, -579500])"
      ]
     },
     "execution_count": 2059,
     "metadata": {},
     "output_type": "execute_result"
    }
   ],
   "source": [
    "miu_n_final"
   ]
  },
  {
   "cell_type": "code",
   "execution_count": 2060,
   "metadata": {
    "collapsed": false,
    "pycharm": {
     "name": "#%%\n"
    }
   },
   "outputs": [
    {
     "data": {
      "text/plain": [
       "<matplotlib.collections.PathCollection at 0x25707039310>"
      ]
     },
     "execution_count": 2060,
     "metadata": {},
     "output_type": "execute_result"
    },
    {
     "data": {
      "image/png": "[encoded data removed]",
      "text/plain": [
       "<Figure size 432x288 with 1 Axes>"
      ]
     },
     "metadata": {
      "needs_background": "light"
     },
     "output_type": "display_data"
    }
   ],
   "source": [
    "(X_totmiun,Y_totmiun) = Total_miu_n.shape\n",
    "range(1,Y_totmiun)\n",
    "plt.scatter(range(1,Y_totmiun),Total_miu_n[0,0:Y_totmiun-1])"
   ]
  },
  {
   "cell_type": "code",
   "execution_count": 2061,
   "metadata": {},
   "outputs": [
    {
     "data": {
      "text/plain": [
       "<matplotlib.collections.PathCollection at 0x257070a31f0>"
      ]
     },
     "execution_count": 2061,
     "metadata": {},
     "output_type": "execute_result"
    },
    {
     "data": {
      "image/png": "[encoded data removed]",
      "text/plain": [
       "<Figure size 432x288 with 1 Axes>"
      ]
     },
     "metadata": {
      "needs_background": "light"
     },
     "output_type": "display_data"
    }
   ],
   "source": [
    "(X_Price,Y_Price) = Price.shape\n",
    "range(1,Y_Price)\n",
    "plt.scatter(range(1,Y_Price),Price[0,0:Y_Price-1])"
   ]
  },
  {
   "cell_type": "code",
   "execution_count": 2062,
   "metadata": {},
   "outputs": [
    {
     "data": {
      "text/plain": [
       "Text(0, 0.5, 'Price')"
      ]
     },
     "execution_count": 2062,
     "metadata": {},
     "output_type": "execute_result"
    },
    {
     "data": {
      "image/png": "[encoded data removed]",
      "text/plain": [
       "<Figure size 432x288 with 1 Axes>"
      ]
     },
     "metadata": {
      "needs_background": "light"
     },
     "output_type": "display_data"
    }
   ],
   "source": [
    "plt.scatter(Total_miu_n[0,0:Y_totmiun-1],Price[0,0:Y_Price-1])\n",
    "plt.xlabel('Total_miu_n')\n",
    "plt.ylabel('Price')"
   ]
  },
  {
   "cell_type": "code",
   "execution_count": 2063,
   "metadata": {},
   "outputs": [],
   "source": [
    "import numpy as np\n",
    "Price_change = np.zeros(Price.shape)\n",
    "Total_miu_n_change = np.zeros(Total_miu_n.shape)\n",
    "# Price_change[0,1:Y_Price-1] = Price[0,1:Y_Price-1] - Price[0,0:Y_Price-2]\n",
    "\n",
    "DIST_TOTALMIU = 1\n",
    "for i in range(DIST_TOTALMIU,Y_Price-1): \n",
    "    Total_miu_n_change[0,i] = Total_miu_n[0,i] - Total_miu_n[0,i-DIST_TOTALMIU]\n",
    "for i in range(1,DIST_TOTALMIU-1):\n",
    "    Total_miu_n_change[0,i] = Total_miu_n[0,i]\n",
    "\n",
    "DIST_PRICE = 5\n",
    "for i in range(DIST_PRICE,Y_Price-1): \n",
    "    Price_change[0,i] = Price[0,i] - Price[0,i-DIST_PRICE]\n",
    "    if Price_change[0,i] > 1:  #强行删去一个很偏离的点\n",
    "        Price_change[0,i] = 0\n",
    "for i in range(1,DIST_PRICE-1):\n",
    "    Price_change[0,i] = Price[0,i]\n"
   ]
  },
  {
   "cell_type": "code",
   "execution_count": 2064,
   "metadata": {},
   "outputs": [
    {
     "data": {
      "text/plain": [
       "Text(0, 0.5, 'Price_change')"
      ]
     },
     "execution_count": 2064,
     "metadata": {},
     "output_type": "execute_result"
    },
    {
     "data": {
      "image/png": "[encoded data removed]",
      "text/plain": [
       "<Figure size 432x288 with 1 Axes>"
      ]
     },
     "metadata": {
      "needs_background": "light"
     },
     "output_type": "display_data"
    }
   ],
   "source": [
    "plt.scatter(Total_miu_n[0,0:Y_totmiun-1],Price_change[0,0:Y_Price-1])\n",
    "plt.xlabel('Total_miu_n')\n",
    "plt.ylabel('Price_change')"
   ]
  },
  {
   "cell_type": "code",
   "execution_count": 2065,
   "metadata": {},
   "outputs": [
    {
     "name": "stderr",
     "output_type": "stream",
     "text": [
      "C:\\Users\\86157\\AppData\\Local\\Programs\\Python\\Python39\\lib\\site-packages\\IPython\\core\\displayhook.py:275: UserWarning: Output cache limit (currently 1000 entries) hit.\n",
      "Flushing oldest 200 entries.\n",
      "  warn('Output cache limit (currently {sz} entries) hit.\\n'\n"
     ]
    },
    {
     "data": {
      "text/plain": [
       "Text(0, 0.5, 'Price_change')"
      ]
     },
     "execution_count": 2065,
     "metadata": {},
     "output_type": "execute_result"
    },
    {
     "data": {
      "image/png": "[encoded data removed]",
      "text/plain": [
       "<Figure size 432x288 with 1 Axes>"
      ]
     },
     "metadata": {
      "needs_background": "light"
     },
     "output_type": "display_data"
    }
   ],
   "source": [
    "plt.scatter(Total_miu_n_change[0,0:Y_totmiun-1],Price_change[0,0:Y_Price-1])\n",
    "plt.xlabel('Total_miu_n_change')\n",
    "plt.ylabel('Price_change')"
   ]
  },
  {
   "cell_type": "code",
   "execution_count": 2066,
   "metadata": {},
   "outputs": [
    {
     "data": {
      "text/plain": [
       "Text(0, 0.5, 'Price_change')"
      ]
     },
     "execution_count": 2066,
     "metadata": {},
     "output_type": "execute_result"
    },
    {
     "data": {
      "image/png": "[encoded data removed]",
      "text/plain": [
       "<Figure size 432x288 with 1 Axes>"
      ]
     },
     "metadata": {
      "needs_background": "light"
     },
     "output_type": "display_data"
    }
   ],
   "source": [
    "import numpy as np\n",
    "Price_change = np.zeros(Price.shape)\n",
    "# Price_change[0,1:Y_Price-1] = Price[0,1:Y_Price-1] - Price[0,0:Y_Price-2]\n",
    "for i in range(1,Y_Price-1): \n",
    "    Price_change[0,i] = Price[0,i] - Price[0,i-1]\n",
    "    if Price_change[0,i] > 1:  #强行删去一个很偏离的点\n",
    "        Price_change[0,i] = 0\n",
    "Price_change[0,0] = Price[0,0]\n",
    "plt.scatter(miu_n_final[0:Y_totmiun-1],Price_change[0,0:Y_Price-1])\n",
    "plt.xlabel('miu_n')\n",
    "plt.ylabel('Price_change')\n"
   ]
  },
  {
   "cell_type": "code",
   "execution_count": 2067,
   "metadata": {},
   "outputs": [
    {
     "name": "stdout",
     "output_type": "stream",
     "text": [
      "(3605,)\n",
      "(1202,)\n",
      "(3605,)\n",
      "(1202,)\n"
     ]
    }
   ],
   "source": [
    "from sklearn.model_selection import train_test_split\n",
    "\n",
    "# temp1 =  np.arange(1,Y_totmiun).reshape(1,Y_totmiun-1)#转为1*Y_totmiun-1的矩阵，以使得shape和Total_miu_n匹配\n",
    "# temp2 =  np.arange(1,Y_totmiun).reshape(1,Y_totmiun-1)#但这种方式不被train_test_split接受，它要求两个都是数组而不是矩阵\n",
    "# X_train,X_test,Y_train,Y_test = train_test_split(temp1[0,0:Y_totmiun-1],temp2[0,0:Y_totmiun-1])\n",
    "\n",
    "X_train,X_test,Y_train,Y_test = train_test_split(Total_miu_n_change[0,0:Y_totmiun-1],Price_change[0,0:Y_Price-1]) #默认的分割是3：1\n",
    "print(X_train.shape)\n",
    "print(X_test.shape)\n",
    "print(Y_train.shape)\n",
    "print(Y_test.shape)\n"
   ]
  },
  {
   "cell_type": "code",
   "execution_count": 2068,
   "metadata": {},
   "outputs": [
    {
     "name": "stdout",
     "output_type": "stream",
     "text": [
      "[2.17280998e-05]\n",
      "[[7.43410217e-09]]\n"
     ]
    }
   ],
   "source": [
    "from sklearn.linear_model import LinearRegression\n",
    "\n",
    "model=LinearRegression()\n",
    "model.fit(X_train.reshape(-1, 1),Y_train.reshape(-1, 1))\n",
    "model.score(X_test.reshape(-1, 1),Y_test.reshape(-1, 1))\n",
    "\n",
    "\n",
    "a=model.intercept_#截距\n",
    "b=model.coef_#回归系数\n",
    "\n",
    "print(a)\n",
    "print(b)\n"
   ]
  }
 ],
 "metadata": {
  "interpreter": {
   "hash": "5209a7113752a0e521d8b0ffa3b5b4f1f019de7188b563f855dc7c2af50954f9"
  },
  "kernelspec": {
   "display_name": "Python 3.9.6 64-bit",
   "name": "python3"
  },
  "language_info": {
   "codemirror_mode": {
    "name": "ipython",
    "version": 3
   },
   "file_extension": ".py",
   "mimetype": "text/x-python",
   "name": "python",
   "nbconvert_exporter": "python",
   "pygments_lexer": "ipython3",
   "version": "3.9.6"
  }
 },
 "nbformat": 4,
 "nbformat_minor": 0
}
