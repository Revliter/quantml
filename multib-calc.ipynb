{
 "cells": [
  {
   "cell_type": "code",
   "execution_count": 1,
   "metadata": {},
   "outputs": [],
   "source": [
    "import numpy as np\n",
    "import h5py, os"
   ]
  },
  {
   "cell_type": "code",
   "execution_count": 3,
   "metadata": {},
   "outputs": [
    {
     "name": "stdout",
     "output_type": "stream",
     "text": [
      "242\n"
     ]
    }
   ],
   "source": [
    "file_000011 = []\n",
    "file_000012 = []\n",
    "file_000029 = []\n",
    "file_000030 = []\n",
    "file_000039 = []\n",
    "\n",
    "def walk(path):\n",
    "    if not os.path.exists(path):\n",
    "        print(\"path error\")\n",
    "        return -1\n",
    "    for root, dirs, filenames in os.walk(path):\n",
    "        if len(filenames) != 5:\n",
    "            continue\n",
    "        for filename in filenames:\n",
    "            if str(filename) == '000011.SZtick.mat':\n",
    "                file_000011.append(os.path.join(root,filename))\n",
    "            elif str(filename) == '000012.SZtick.mat':\n",
    "                file_000012.append(os.path.join(root,filename))\n",
    "            elif str(filename) == '000029.SZtick.mat':\n",
    "                file_000029.append(os.path.join(root,filename))\n",
    "            elif str(filename) == '000030.SZtick.mat':\n",
    "                file_000030.append(os.path.join(root,filename))\n",
    "            elif str(filename) == '000039.SZtick.mat':\n",
    "                file_000039.append(os.path.join(root,filename))\n",
    "            else:\n",
    "                print(\"unknown file name\")\n",
    "                return -1\n",
    "    return 0\n",
    "\n",
    "ret = walk(r'data')\n",
    "if ret == -1: assert False\n",
    "print(len(file_000011))"
   ]
  },
  {
   "cell_type": "code",
   "execution_count": 14,
   "metadata": {},
   "outputs": [],
   "source": [
    "def init_data(filenames):\n",
    "    i = 0\n",
    "    for filename in filenames:\n",
    "        i += 1\n",
    "        f = h5py.File(filename, 'r+')\n",
    "        TotalBidVolume = np.array(f['r1']['TotalBidVolume'])\n",
    "        TotalAskVolume = np.array(f['r1']['TotalAskVolume'])\n",
    "        Price = np.array(f['r1']['Price'])\n",
    "        d = TotalBidVolume - TotalAskVolume\n",
    "        if i <= 10:\n",
    "            print(TotalBidVolume)\n",
    "            print(TotalAskVolume)\n",
    "            print(d)"
   ]
  },
  {
   "cell_type": "code",
   "execution_count": 15,
   "metadata": {},
   "outputs": [
    {
     "name": "stdout",
     "output_type": "stream",
     "text": [
      "[[0 0 0 ... 0 0 0]]\n",
      "[[      0       0       0 ...       0 5915493 5915493]]\n",
      "[[       0        0        0 ...        0 -5915493 -5915493]]\n",
      "[[0 0 0 ... 0 0 0]]\n",
      "[[      0       0       0 ...       0 3394523 3394523]]\n",
      "[[       0        0        0 ...        0 -3394523 -3394523]]\n",
      "[[      0       0       0 ...       0 1247261 1247261]]\n",
      "[[      0       0       0 ...       0 2763782 2763782]]\n",
      "[[       0        0        0 ...        0 -1516521 -1516521]]\n",
      "[[      0       0       0 ...       0 2017095 2017095]]\n",
      "[[0 0 0 ... 0 0 0]]\n",
      "[[      0       0       0 ...       0 2017095 2017095]]\n",
      "[[      0       0       0 ...       0 1374370 1374370]]\n",
      "[[      0       0       0 ...       0 1403956 1403956]]\n",
      "[[     0      0      0 ...      0 -29586 -29586]]\n",
      "[[0 0 0 ... 0 0 0]]\n",
      "[[       0        0        0 ...        0 12245489 12245489]]\n",
      "[[        0         0         0 ...         0 -12245489 -12245489]]\n",
      "[[      0       0       0 ...       0 1369300 1369300]]\n",
      "[[      0       0       0 ...       0 1957673 1957673]]\n",
      "[[      0       0       0 ...       0 -588373 -588373]]\n",
      "[[      0       0       0 ...       0 1637002 1637002]]\n",
      "[[     0      0      0 ...      0 960001 960001]]\n",
      "[[     0      0      0 ...      0 677001 677001]]\n",
      "[[0 0 0 ... 0 0 0]]\n",
      "[[      0       0       0 ...       0 1294116 1294116]]\n",
      "[[       0        0        0 ...        0 -1294116 -1294116]]\n",
      "[[0 0 0 ... 0 0 0]]\n",
      "[[       0        0        0 ...        0 14695241 14695241]]\n",
      "[[        0         0         0 ...         0 -14695241 -14695241]]\n"
     ]
    }
   ],
   "source": [
    "init_data(file_000011)"
   ]
  }
 ],
 "metadata": {
  "interpreter": {
   "hash": "916dbcbb3f70747c44a77c7bcd40155683ae19c65e1c03b4aa3499c5328201f1"
  },
  "kernelspec": {
   "display_name": "Python 3.9.5 64-bit",
   "language": "python",
   "name": "python3"
  },
  "language_info": {
   "codemirror_mode": {
    "name": "ipython",
    "version": 3
   },
   "file_extension": ".py",
   "mimetype": "text/x-python",
   "name": "python",
   "nbconvert_exporter": "python",
   "pygments_lexer": "ipython3",
   "version": "3.9.5"
  },
  "orig_nbformat": 4
 },
 "nbformat": 4,
 "nbformat_minor": 2
}
