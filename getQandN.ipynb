{
 "cells": [
  {
   "cell_type": "code",
   "execution_count": 1,
   "metadata": {},
   "outputs": [],
   "source": [
    "import numpy.matlib\n",
    "import numpy as np"
   ]
  },
  {
   "cell_type": "code",
   "execution_count": 2,
   "metadata": {},
   "outputs": [],
   "source": [
    "def getQBar(qList, a, b, N):\n",
    "    def getQk(qList, k):\n",
    "        def f1(x, k):\n",
    "            return 1 / (2 * np.power(x, k))\n",
    "        qList = f1(qList, k)\n",
    "        return np.diag(qList)\n",
    "        \n",
    "    def getQ(Qa, Qb):\n",
    "        return np.diag(np.append(np.diag(Qa), np.diag(Qb)))\n",
    "\n",
    "    Q = getQ(getQk(qList, a), getQk(qList, b))\n",
    "\n",
    "    diag = np.diag(Q)\n",
    "    for i in range(N):\n",
    "        diag = np.append(diag, np.diag(Q))\n",
    "    return np.diag(diag)"
   ]
  },
  {
   "cell_type": "code",
   "execution_count": 3,
   "metadata": {},
   "outputs": [],
   "source": [
    "def getNBar(s, Lambda, m, N):\n",
    "    def getN(s, Lambda, m):\n",
    "        def getL(m):\n",
    "            return np.block([\n",
    "                [np.matlib.identity(m)],\n",
    "                [np.matlib.identity(m)]\n",
    "            ])\n",
    "        \n",
    "        def getDelta(m):\n",
    "            return np.block([\n",
    "                [np.matlib.identity(m)],\n",
    "                [- np.matlib.identity(m)]\n",
    "            ])\n",
    "\n",
    "        return np.block([\n",
    "            [np.dot(0.5, np.dot(np.matrix(s), getL(m).T))], \n",
    "            [- np.dot(Lambda, getDelta(m).T)],\n",
    "            [np.matlib.identity(2 * m)]\n",
    "        ])\n",
    "    \n",
    "    N_M = getN(s, Lambda, m)\n",
    "    ret = N_M\n",
    "    for i in range(N):\n",
    "        ret = np.block([\n",
    "            [ret, np.zeros((ret.shape[0], N_M.shape[1]))],\n",
    "            [np.zeros((N_M.shape[0], ret.shape[1])), N_M]\n",
    "        ])\n",
    "    return ret"
   ]
  },
  {
   "cell_type": "code",
   "execution_count": 4,
   "metadata": {},
   "outputs": [
    {
     "data": {
      "text/plain": [
       "array([[0.5  , 0.   , 0.   , 0.   , 0.   , 0.   , 0.   , 0.   , 0.   ,\n",
       "        0.   , 0.   , 0.   ],\n",
       "       [0.   , 0.25 , 0.   , 0.   , 0.   , 0.   , 0.   , 0.   , 0.   ,\n",
       "        0.   , 0.   , 0.   ],\n",
       "       [0.   , 0.   , 0.5  , 0.   , 0.   , 0.   , 0.   , 0.   , 0.   ,\n",
       "        0.   , 0.   , 0.   ],\n",
       "       [0.   , 0.   , 0.   , 0.125, 0.   , 0.   , 0.   , 0.   , 0.   ,\n",
       "        0.   , 0.   , 0.   ],\n",
       "       [0.   , 0.   , 0.   , 0.   , 0.5  , 0.   , 0.   , 0.   , 0.   ,\n",
       "        0.   , 0.   , 0.   ],\n",
       "       [0.   , 0.   , 0.   , 0.   , 0.   , 0.25 , 0.   , 0.   , 0.   ,\n",
       "        0.   , 0.   , 0.   ],\n",
       "       [0.   , 0.   , 0.   , 0.   , 0.   , 0.   , 0.5  , 0.   , 0.   ,\n",
       "        0.   , 0.   , 0.   ],\n",
       "       [0.   , 0.   , 0.   , 0.   , 0.   , 0.   , 0.   , 0.125, 0.   ,\n",
       "        0.   , 0.   , 0.   ],\n",
       "       [0.   , 0.   , 0.   , 0.   , 0.   , 0.   , 0.   , 0.   , 0.5  ,\n",
       "        0.   , 0.   , 0.   ],\n",
       "       [0.   , 0.   , 0.   , 0.   , 0.   , 0.   , 0.   , 0.   , 0.   ,\n",
       "        0.25 , 0.   , 0.   ],\n",
       "       [0.   , 0.   , 0.   , 0.   , 0.   , 0.   , 0.   , 0.   , 0.   ,\n",
       "        0.   , 0.5  , 0.   ],\n",
       "       [0.   , 0.   , 0.   , 0.   , 0.   , 0.   , 0.   , 0.   , 0.   ,\n",
       "        0.   , 0.   , 0.125]])"
      ]
     },
     "execution_count": 4,
     "metadata": {},
     "output_type": "execute_result"
    }
   ],
   "source": [
    "# simple test to check row and column\n",
    "getQBar([1,2], 1, 2, 2)"
   ]
  },
  {
   "cell_type": "code",
   "execution_count": 5,
   "metadata": {},
   "outputs": [
    {
     "data": {
      "text/plain": [
       "matrix([[ 0.5,  1. ,  0.5,  1. ,  0. ,  0. ,  0. ,  0. ],\n",
       "        [-2. , -3. ,  2. ,  3. ,  0. ,  0. ,  0. ,  0. ],\n",
       "        [-1. , -2. ,  1. ,  2. ,  0. ,  0. ,  0. ,  0. ],\n",
       "        [ 1. ,  0. ,  0. ,  0. ,  0. ,  0. ,  0. ,  0. ],\n",
       "        [ 0. ,  1. ,  0. ,  0. ,  0. ,  0. ,  0. ,  0. ],\n",
       "        [ 0. ,  0. ,  1. ,  0. ,  0. ,  0. ,  0. ,  0. ],\n",
       "        [ 0. ,  0. ,  0. ,  1. ,  0. ,  0. ,  0. ,  0. ],\n",
       "        [ 0. ,  0. ,  0. ,  0. ,  0.5,  1. ,  0.5,  1. ],\n",
       "        [ 0. ,  0. ,  0. ,  0. , -2. , -3. ,  2. ,  3. ],\n",
       "        [ 0. ,  0. ,  0. ,  0. , -1. , -2. ,  1. ,  2. ],\n",
       "        [ 0. ,  0. ,  0. ,  0. ,  1. ,  0. ,  0. ,  0. ],\n",
       "        [ 0. ,  0. ,  0. ,  0. ,  0. ,  1. ,  0. ,  0. ],\n",
       "        [ 0. ,  0. ,  0. ,  0. ,  0. ,  0. ,  1. ,  0. ],\n",
       "        [ 0. ,  0. ,  0. ,  0. ,  0. ,  0. ,  0. ,  1. ]])"
      ]
     },
     "execution_count": 5,
     "metadata": {},
     "output_type": "execute_result"
    }
   ],
   "source": [
    "# simple test to check row and column\n",
    "getNBar([1,2], np.matrix('2,3;1,2'), 2, 1)"
   ]
  }
 ],
 "metadata": {
  "interpreter": {
   "hash": "b3ba2566441a7c06988d0923437866b63cedc61552a5af99d1f4fb67d367b25f"
  },
  "kernelspec": {
   "display_name": "Python 3.9.7 ('base')",
   "language": "python",
   "name": "python3"
  },
  "language_info": {
   "codemirror_mode": {
    "name": "ipython",
    "version": 3
   },
   "file_extension": ".py",
   "mimetype": "text/x-python",
   "name": "python",
   "nbconvert_exporter": "python",
   "pygments_lexer": "ipython3",
   "version": "3.9.7"
  },
  "orig_nbformat": 4
 },
 "nbformat": 4,
 "nbformat_minor": 2
}
