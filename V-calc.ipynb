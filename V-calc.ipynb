{
 "cells": [
  {
   "cell_type": "code",
   "execution_count": 3,
   "metadata": {},
   "outputs": [],
   "source": [
    "import scipy.integrate as integrate\n",
    "import numpy as np"
   ]
  },
  {
   "cell_type": "markdown",
   "metadata": {},
   "source": [
    "$$\n",
    "V_t=\\gamma\\frac{\\cosh(\\gamma(T-t))}{\\sinh(\\gamma(T-t))}(S-sum)-\\frac{b}{2k}\\mathbb{E}\\int_{t}^T\\frac{\\sinh(\\gamma(T-u))}{\\sinh(\\gamma(T-t))}du\n",
    "$$\n",
    "in which\n",
    "$$\n",
    "\\gamma=\\sqrt{\\frac{\\phi}{k}}\n",
    "$$\n",
    "\n",
    "Parameter: $\\phi, b, k, \\Delta t, E, T, t$"
   ]
  },
  {
   "cell_type": "code",
   "execution_count": 57,
   "metadata": {},
   "outputs": [],
   "source": [
    "global sum\n",
    "global totv\n",
    "\n",
    "def V_init(tot):\n",
    "    global sum\n",
    "    global totv\n",
    "    sum = 0\n",
    "    totv = tot\n",
    "\n",
    "def V_calc(phi, b, k, E, t, T, dt):\n",
    "    global sum\n",
    "    global totv\n",
    "    gamma = (phi * 1.0 / k) ** 0.5\n",
    "    def f(u):\n",
    "        return np.sinh(gamma * (T - u)) / np.sinh(gamma * (T - t))\n",
    "    \n",
    "    ans = gamma * np.cosh(gamma * (T - t)) / np.sinh(gamma * (T - t)) * (totv - sum) - b * 1.0 / 2 / k * E * integrate.quad(f, t, T)[0]\n",
    "    sum += ans * dt\n",
    "    return ans"
   ]
  },
  {
   "cell_type": "code",
   "execution_count": 58,
   "metadata": {},
   "outputs": [
    {
     "name": "stdout",
     "output_type": "stream",
     "text": [
      "110.22303799210391\n"
     ]
    }
   ],
   "source": [
    "V_init(100)\n",
    "print(V_calc(1,2,3,4,5,6,7))"
   ]
  }
 ],
 "metadata": {
  "interpreter": {
   "hash": "916dbcbb3f70747c44a77c7bcd40155683ae19c65e1c03b4aa3499c5328201f1"
  },
  "kernelspec": {
   "display_name": "Python 3.9.5 64-bit",
   "language": "python",
   "name": "python3"
  },
  "language_info": {
   "codemirror_mode": {
    "name": "ipython",
    "version": 3
   },
   "file_extension": ".py",
   "mimetype": "text/x-python",
   "name": "python",
   "nbconvert_exporter": "python",
   "pygments_lexer": "ipython3",
   "version": "3.9.5"
  },
  "orig_nbformat": 4
 },
 "nbformat": 4,
 "nbformat_minor": 2
}
