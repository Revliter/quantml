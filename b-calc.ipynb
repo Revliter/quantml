{
 "cells": [
  {
   "cell_type": "code",
   "execution_count": 2,
   "metadata": {},
   "outputs": [],
   "source": [
    "import os\n",
    "import numpy as np\n",
    "import h5py"
   ]
  },
  {
   "cell_type": "code",
   "execution_count": 3,
   "metadata": {},
   "outputs": [],
   "source": [
    "file_11 = []\n",
    "file_12 = []\n",
    "file_29 = []\n",
    "file_30 = []\n",
    "file_39 = []\n",
    "\n",
    "def walk(path):\n",
    "    if not os.path.exists(path):\n",
    "        print(\"path error\")\n",
    "        return -1\n",
    "    for root, dirs, filenames in os.walk(path):\n",
    "        for filename in filenames:\n",
    "            if str(filename) == '000011.SZtick.mat':\n",
    "                file_11.append(os.path.join(root,filename))\n",
    "            elif str(filename) == '000012.SZtick.mat':\n",
    "                file_12.append(os.path.join(root,filename))\n",
    "            elif str(filename) == '000029.SZtick.mat':\n",
    "                file_29.append(os.path.join(root,filename))\n",
    "            elif str(filename) == '000030.SZtick.mat':\n",
    "                file_30.append(os.path.join(root,filename))\n",
    "            elif str(filename) == '000039.SZtick.mat':\n",
    "                file_39.append(os.path.join(root,filename))\n",
    "            else:\n",
    "                print(\"unknown file name\")\n",
    "                return -1\n",
    "    return 0"
   ]
  },
  {
   "cell_type": "code",
   "execution_count": 6,
   "metadata": {},
   "outputs": [],
   "source": [
    "ret = walk(r'data-15.07.08')\n",
    "if ret == -1:\n",
    "    assert False"
   ]
  },
  {
   "cell_type": "code",
   "execution_count": 36,
   "metadata": {},
   "outputs": [],
   "source": [
    "def calc_b(SZtick_filenames):\n",
    "    b_all = 0\n",
    "    for dataPath in SZtick_filenames:\n",
    "        f = h5py.File(dataPath,'r+')\n",
    "        f['r1'].keys()\n",
    "        keys = ['AccTurover', 'AccVolume', 'AskAvPrice', 'AskPrice', 'AskVolume', 'BSFlag', 'BidAvPrice', 'BidPrice', 'BidVolume', 'Code', 'CurDelta', 'Date', 'Downs', 'High', 'HoldLines', 'Index', 'Interest', 'Low', 'MatchItems', 'Open', 'Position', 'PreClose', 'PrePosition', 'PreSettle', 'Price', 'Settle', 'Stocks', 'Time', 'TotalAskVolume', 'TotalBidVolume', 'TradeFlag', 'Turover', 'Ups', 'Volume', 'WindCode']\n",
    "        data = []\n",
    "        for key in keys:\n",
    "            data.append(f['r1'][key])\n",
    "        BidPrice = np.array(f['r1']['BidPrice'])\n",
    "        AskPrice = np.array(f['r1']['AskPrice'])\n",
    "        BidVolume = np.array(f['r1']['BidVolume'])\n",
    "        AskVolume = np.array(f['r1']['AskVolume'])\n",
    "        # TotalBidVolume = np.array(f['r1']['TotalBidVolume'])## 添加于2.12.16.55\n",
    "        # TotalAskVolume = np.array(f['r1']['TotalAskVolume'])\n",
    "        TotalBidVolume = np.array(np.sum(BidPrice, axis=0),dtype=int)\n",
    "        TotalAskVolume = np.array(np.sum(AskPrice, axis=0),dtype=int)\n",
    "        Price = np.array(f['r1']['Price']) \n",
    "        miu_n = BidVolume.astype(int) - AskVolume.astype(int)\n",
    "        Total_miu_n = TotalBidVolume.astype(int) - TotalAskVolume.astype(int) \n",
    "        Total_miu_n = Total_miu_n.reshape(1, -1)\n",
    "\n",
    "        Price_change = np.zeros(Price.shape)\n",
    "        Total_miu_n_change = np.zeros(Total_miu_n.shape)\n",
    "        # Price_change[0,1:Y_Price-1] = Price[0,1:Y_Price-1] - Price[0,0:Y_Price-2]\n",
    "\n",
    "        [dummy,Y_totmiun] = Total_miu_n.shape\n",
    "        [dummy,Y_Price] = Price.shape\n",
    "\n",
    "        DIST_TOTALMIU = 1\n",
    "        for i in range(DIST_TOTALMIU,Y_totmiun): \n",
    "            Total_miu_n_change[0,i] = Total_miu_n[0,i] - Total_miu_n[0,i-DIST_TOTALMIU]\n",
    "        for i in range(0,DIST_TOTALMIU):\n",
    "            Total_miu_n_change[0,i] = Total_miu_n[0,i]\n",
    "\n",
    "        '''\n",
    "        DIST_PRICE = 5\n",
    "        for i in range(DIST_PRICE,Y_Price-1): \n",
    "            Price_change[0,i] = Price[0,i] - Price[0,i-DIST_PRICE]\n",
    "            if Price_change[0,i] > 1:  #强行删去一个很偏离的点\n",
    "                Price_change[0,i] = 0\n",
    "        for i in range(1,DIST_PRICE-1):\n",
    "            Price_change[0,i] = Price[0,i]\n",
    "        '''\n",
    "\n",
    "        DIST_PRICE = 5\n",
    "        Price_change = np.zeros(Price.shape)\n",
    "        # Price_change[0,1:Y_Price-1] = Price[0,1:Y_Price-1] - Price[0,0:Y_Price-2]\n",
    "        for i in range(DIST_PRICE,Y_Price): \n",
    "            Price_change[0,i] = Price[0,i] - Price[0,i-DIST_PRICE]\n",
    "            if Price_change[0,i] > 1:  #强行删去一个很偏离的点\n",
    "                Price_change[0,i] = 0\n",
    "        for i in range(0, DIST_PRICE):\n",
    "            Price_change[0,i] = Price[0,i]\n",
    "\n",
    "\n",
    "        from sklearn.model_selection import train_test_split\n",
    "\n",
    "        # temp1 =  np.arange(1,Y_totmiun).reshape(1,Y_totmiun-1)#转为1*Y_totmiun-1的矩阵，以使得shape和Total_miu_n匹配\n",
    "        # temp2 =  np.arange(1,Y_totmiun).reshape(1,Y_totmiun-1)#但这种方式不被train_test_split接受，它要求两个都是数组而不是矩阵\n",
    "        # X_train,X_test,Y_train,Y_test = train_test_split(temp1[0,0:Y_totmiun-1],temp2[0,0:Y_totmiun-1])\n",
    "\n",
    "        # X_train,X_test,Y_train,Y_test = train_test_split(Total_miu_n_change[0,0:Y_totmiun-1],Price_change[0,0:Y_Price-1],test_size=0)\n",
    "\n",
    "        from sklearn.linear_model import LinearRegression\n",
    "\n",
    "        X_train = Total_miu_n_change[0,0:Y_totmiun]\n",
    "        Y_train = Price_change[0,0:Y_Price]\n",
    "        model=LinearRegression()\n",
    "        model.fit(X_train.reshape(-1, 1),Y_train.reshape(-1, 1))\n",
    "        # model.score(X_test.reshape(-1, 1),Y_test.reshape(-1, 1))\n",
    "\n",
    "\n",
    "        a=model.intercept_#截距\n",
    "        b=model.coef_#回归系数\n",
    "\n",
    "        # print(b)\n",
    "\n",
    "        b_all += b\n",
    "\n",
    "    b_average = b_all / len(SZtick_filenames)\n",
    "    return b_average"
   ]
  },
  {
   "cell_type": "code",
   "execution_count": 37,
   "metadata": {},
   "outputs": [
    {
     "name": "stdout",
     "output_type": "stream",
     "text": [
      "[[1.61144555e-07]]\n",
      "[[4.23827577e-08]]\n",
      "[[2.27322663e-07]]\n",
      "[[2.49116032e-07]]\n",
      "[[1.72804347e-07]]\n"
     ]
    }
   ],
   "source": [
    "print(calc_b(file_11))\n",
    "print(calc_b(file_12))\n",
    "print(calc_b(file_29))\n",
    "print(calc_b(file_30))\n",
    "print(calc_b(file_39))"
   ]
  }
 ],
 "metadata": {
  "interpreter": {
   "hash": "916dbcbb3f70747c44a77c7bcd40155683ae19c65e1c03b4aa3499c5328201f1"
  },
  "kernelspec": {
   "display_name": "Python 3.9.5 64-bit",
   "language": "python",
   "name": "python3"
  },
  "language_info": {
   "codemirror_mode": {
    "name": "ipython",
    "version": 3
   },
   "file_extension": ".py",
   "mimetype": "text/x-python",
   "name": "python",
   "nbconvert_exporter": "python",
   "pygments_lexer": "ipython3",
   "version": "3.9.5"
  },
  "orig_nbformat": 4
 },
 "nbformat": 4,
 "nbformat_minor": 2
}
